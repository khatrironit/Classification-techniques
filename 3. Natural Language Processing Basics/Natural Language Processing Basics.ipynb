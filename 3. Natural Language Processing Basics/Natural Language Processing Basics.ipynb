{
 "cells": [
  {
   "cell_type": "markdown",
   "metadata": {},
   "source": [
    "# Basic NLP Pipeline\n",
    "        -Data collection\n",
    "        -Tokenization,Stopwords,Stemming\n",
    "        -Building a common vocab\n",
    "        -Vectorizing the documents\n",
    "        -Performing the classification/clustering"
   ]
  },
  {
   "cell_type": "markdown",
   "metadata": {},
   "source": [
    "# Data collection"
   ]
  },
  {
   "cell_type": "code",
   "execution_count": 1,
   "metadata": {},
   "outputs": [],
   "source": [
    "from nltk.corpus import brown"
   ]
  },
  {
   "cell_type": "code",
   "execution_count": 2,
   "metadata": {},
   "outputs": [
    {
     "name": "stdout",
     "output_type": "stream",
     "text": [
      "['adventure', 'belles_lettres', 'editorial', 'fiction', 'government', 'hobbies', 'humor', 'learned', 'lore', 'mystery', 'news', 'religion', 'reviews', 'romance', 'science_fiction']\n"
     ]
    }
   ],
   "source": [
    "categories = brown.categories()\n",
    "print(categories)"
   ]
  },
  {
   "cell_type": "code",
   "execution_count": 3,
   "metadata": {},
   "outputs": [
    {
     "name": "stdout",
     "output_type": "stream",
     "text": [
      "100\n",
      "['Dan', 'Morgan', 'told', 'himself', 'he', 'would', 'forget', 'Ann', 'Turner', '.']\n"
     ]
    }
   ],
   "source": [
    "data = brown.sents(categories = 'adventure')[:100]\n",
    "print(len(data))\n",
    "print(data[0])"
   ]
  },
  {
   "cell_type": "markdown",
   "metadata": {},
   "source": [
    "# Tokenization"
   ]
  },
  {
   "cell_type": "code",
   "execution_count": 4,
   "metadata": {},
   "outputs": [
    {
     "name": "stdout",
     "output_type": "stream",
     "text": [
      "It was a pleasant day, the weather was cool and there were light showers. I went to the market to buy 10 bananas, 20 mangoes and some vegetables.\n"
     ]
    }
   ],
   "source": [
    "text = \"It was a pleasant day, the weather was cool and there were light showers. I went to the market to buy 10 bananas, 20 mangoes and some vegetables.\"\n",
    "print(text)"
   ]
  },
  {
   "cell_type": "code",
   "execution_count": 5,
   "metadata": {},
   "outputs": [],
   "source": [
    "from nltk.tokenize import sent_tokenize,word_tokenize"
   ]
  },
  {
   "cell_type": "code",
   "execution_count": 6,
   "metadata": {},
   "outputs": [
    {
     "name": "stdout",
     "output_type": "stream",
     "text": [
      "2\n",
      "['It was a pleasant day, the weather was cool and there were light showers.', 'I went to the market to buy 10 bananas, 20 mangoes and some vegetables.']\n"
     ]
    }
   ],
   "source": [
    "sents = sent_tokenize(text)\n",
    "print(len(sents))\n",
    "print(sents)"
   ]
  },
  {
   "cell_type": "code",
   "execution_count": 7,
   "metadata": {},
   "outputs": [
    {
     "name": "stdout",
     "output_type": "stream",
     "text": [
      "32\n",
      "['it', 'was', 'a', 'pleasant', 'day', ',', 'the', 'weather', 'was', 'cool', 'and', 'there', 'were', 'light', 'showers', '.', 'i', 'went', 'to', 'the', 'market', 'to', 'buy', '10', 'bananas', ',', '20', 'mangoes', 'and', 'some', 'vegetables', '.']\n"
     ]
    }
   ],
   "source": [
    "words_ = word_tokenize(text.lower())\n",
    "print(len(words_))\n",
    "print(words_)"
   ]
  },
  {
   "cell_type": "markdown",
   "metadata": {},
   "source": [
    "# Tokenization using Regular expressions\n",
    "    Problem with word tokenizer - can't handle complex tokenizations(.,/?!@#$..etc).So we use Regexp tokenizer class in NLTK"
   ]
  },
  {
   "cell_type": "code",
   "execution_count": 8,
   "metadata": {},
   "outputs": [],
   "source": [
    "from nltk.tokenize import RegexpTokenizer"
   ]
  },
  {
   "cell_type": "code",
   "execution_count": 9,
   "metadata": {},
   "outputs": [],
   "source": [
    "#extract only belonging to a-z A-Z,+ signigies one or more occurence of the preceding character\n",
    "tokenizer = RegexpTokenizer(\"[a-zA-z]+\")"
   ]
  },
  {
   "cell_type": "code",
   "execution_count": 10,
   "metadata": {},
   "outputs": [
    {
     "name": "stdout",
     "output_type": "stream",
     "text": [
      "26\n",
      "['it', 'was', 'a', 'pleasant', 'day', 'the', 'weather', 'was', 'cool', 'and', 'there', 'were', 'light', 'showers', 'i', 'went', 'to', 'the', 'market', 'to', 'buy', 'bananas', 'mangoes', 'and', 'some', 'vegetables']\n"
     ]
    }
   ],
   "source": [
    "words = tokenizer.tokenize(text.lower())\n",
    "print(len(words))\n",
    "print(words)"
   ]
  },
  {
   "cell_type": "markdown",
   "metadata": {},
   "source": [
    "# Stopwords Removal"
   ]
  },
  {
   "cell_type": "code",
   "execution_count": 11,
   "metadata": {},
   "outputs": [],
   "source": [
    "from nltk.corpus import stopwords"
   ]
  },
  {
   "cell_type": "code",
   "execution_count": 12,
   "metadata": {},
   "outputs": [
    {
     "name": "stdout",
     "output_type": "stream",
     "text": [
      "179\n",
      "['i', 'me', 'my', 'myself', 'we']\n"
     ]
    }
   ],
   "source": [
    "sw = set(stopwords.words('english'))\n",
    "print(len(stopwords.words('english')))\n",
    "print(stopwords.words('english')[:5])"
   ]
  },
  {
   "cell_type": "code",
   "execution_count": 13,
   "metadata": {},
   "outputs": [
    {
     "name": "stdout",
     "output_type": "stream",
     "text": [
      "Total words = 26\n",
      "['it', 'was', 'a', 'pleasant', 'day', 'the', 'weather', 'was', 'cool', 'and', 'there', 'were', 'light', 'showers', 'i', 'went', 'to', 'the', 'market', 'to', 'buy', 'bananas', 'mangoes', 'and', 'some', 'vegetables']\n",
      "Useful Words = 12\n",
      "['pleasant', 'day', 'weather', 'cool', 'light', 'showers', 'went', 'market', 'buy', 'bananas', 'mangoes', 'vegetables']\n"
     ]
    }
   ],
   "source": [
    "def remove_stopwords(words):\n",
    "    return [w for w in words if w not in sw]\n",
    "\n",
    "\n",
    "useful_words = remove_stopwords(words)\n",
    "print(\"Total words = {}\".format(len(words)))\n",
    "print(words)\n",
    "print(\"Useful Words = {}\".format(len(useful_words)))\n",
    "print(useful_words)"
   ]
  },
  {
   "cell_type": "markdown",
   "metadata": {},
   "source": [
    "# Stemming\n",
    "    -process that transforms particular words(verbs,plurals etc.) into their radical form\n",
    "    -preserves the symantics of the sentence without increasing the unique tokens\n",
    "    -jumps,jumping,jumped,jump => jump"
   ]
  },
  {
   "cell_type": "code",
   "execution_count": 14,
   "metadata": {},
   "outputs": [
    {
     "name": "stdout",
     "output_type": "stream",
     "text": [
      "21\n",
      "['Foxes', 'love', 'to', 'make', 'jumps', 'The', 'quick', 'brown', 'fox', 'was', 'seen', 'jumping', 'over', 'the', 'lovely', 'dog', 'from', 'a', 'ft', 'high', 'wall']\n"
     ]
    }
   ],
   "source": [
    "text1 = \"Foxes love to make jumps. The quick brown fox was seen jumping over the lovely dog from a 6ft high wall.\"\n",
    "#tokenize\n",
    "words1 = tokenizer.tokenize(text1)\n",
    "print(len(words1))\n",
    "print(words1)"
   ]
  },
  {
   "cell_type": "code",
   "execution_count": 15,
   "metadata": {},
   "outputs": [
    {
     "name": "stdout",
     "output_type": "stream",
     "text": [
      "15\n",
      "['pleasant', 'day', 'weather', 'cool', 'light', 'showers', 'went', 'market', 'buy', 'bananas', 'mangoes', 'vegetables']\n"
     ]
    }
   ],
   "source": [
    "#remove stopwords\n",
    "useful_words1 = remove_stopwords(words1)\n",
    "print(len(useful_words1))\n",
    "print(useful_words)"
   ]
  },
  {
   "cell_type": "markdown",
   "metadata": {},
   "source": [
    "# Stemming\n",
    "     1.Snowball stemmer(multilingual)\n",
    "     2.Porter stemmer\n",
    "     3.Lancaster stemmer"
   ]
  },
  {
   "cell_type": "code",
   "execution_count": 16,
   "metadata": {},
   "outputs": [],
   "source": [
    "from nltk.stem.snowball import SnowballStemmer,PorterStemmer"
   ]
  },
  {
   "cell_type": "code",
   "execution_count": 17,
   "metadata": {},
   "outputs": [
    {
     "name": "stdout",
     "output_type": "stream",
     "text": [
      "play\n",
      "jump\n"
     ]
    }
   ],
   "source": [
    "ss = SnowballStemmer('english')\n",
    "print(ss.stem('playing'))\n",
    "ps = PorterStemmer()\n",
    "print(ps.stem('jumping'))"
   ]
  },
  {
   "cell_type": "code",
   "execution_count": 18,
   "metadata": {},
   "outputs": [],
   "source": [
    "from nltk.stem.lancaster import LancasterStemmer"
   ]
  },
  {
   "cell_type": "code",
   "execution_count": 19,
   "metadata": {},
   "outputs": [
    {
     "data": {
      "text/plain": [
       "'teen'"
      ]
     },
     "execution_count": 19,
     "metadata": {},
     "output_type": "execute_result"
    }
   ],
   "source": [
    "ls = LancasterStemmer()\n",
    "ls.stem('teenager')"
   ]
  },
  {
   "cell_type": "markdown",
   "metadata": {},
   "source": [
    "# lemmatization\n",
    "        -same as stemming"
   ]
  },
  {
   "cell_type": "code",
   "execution_count": 20,
   "metadata": {},
   "outputs": [],
   "source": [
    "from nltk.stem import WordNetLemmatizer"
   ]
  },
  {
   "cell_type": "code",
   "execution_count": 21,
   "metadata": {},
   "outputs": [
    {
     "data": {
      "text/plain": [
       "'cry'"
      ]
     },
     "execution_count": 21,
     "metadata": {},
     "output_type": "execute_result"
    }
   ],
   "source": [
    "l = WordNetLemmatizer()\n",
    "l.lemmatize('crying')"
   ]
  },
  {
   "cell_type": "code",
   "execution_count": 22,
   "metadata": {},
   "outputs": [],
   "source": [
    "#function to preprocess the data\n",
    "from nltk.tokenize import RegexpTokenizer\n",
    "from nltk.corpus import stopwords\n",
    "from nltk.stem.snowball import SnowballStemmer\n",
    "\n",
    "tokenizer = RegexpTokenizer(\"[a-zA-Z]+\")\n",
    "sw = set(stopwords.words('english'))\n",
    "stemmer = SnowballStemmer('english')\n",
    "\n",
    "def data_preprocess(text):\n",
    "    words = tokenizer.tokenize(text)\n",
    "    useful_words = [w for w in words if w not in sw]\n",
    "    for i in range(len(useful_words)):\n",
    "        useful_words[i] = stemmer.stem(useful_words[i])\n",
    "    return useful_words\n",
    "    "
   ]
  },
  {
   "cell_type": "code",
   "execution_count": 23,
   "metadata": {},
   "outputs": [
    {
     "name": "stdout",
     "output_type": "stream",
     "text": [
      "['fox', 'love', 'make', 'jump', 'the', 'quick', 'brown', 'fox', 'seen', 'jump', 'love', 'dog', 'ft', 'high', 'wall']\n"
     ]
    }
   ],
   "source": [
    "print(data_preprocess(text1))"
   ]
  },
  {
   "cell_type": "markdown",
   "metadata": {},
   "source": [
    "# Building a common vocab and vectorizing documents(using bag of words model)"
   ]
  },
  {
   "cell_type": "code",
   "execution_count": 24,
   "metadata": {},
   "outputs": [],
   "source": [
    "from sklearn.feature_extraction.text import CountVectorizer"
   ]
  },
  {
   "cell_type": "code",
   "execution_count": 25,
   "metadata": {},
   "outputs": [],
   "source": [
    "corpus = [\n",
    "            'Indian cricket team will wins worldcup, says capt. Virat kohli',\n",
    "            'We will win next lok sabha elections , says confident Indian PM',\n",
    "            'The nobel laurate won the hearts of the people',\n",
    "            'The movie raazi is a interesting Indian spy thriller based upon a real story'\n",
    "]"
   ]
  },
  {
   "cell_type": "code",
   "execution_count": 26,
   "metadata": {},
   "outputs": [],
   "source": [
    "cv = CountVectorizer() #default tokenizer\n",
    "vectorized_corpus = cv.fit_transform(corpus)"
   ]
  },
  {
   "cell_type": "code",
   "execution_count": 27,
   "metadata": {},
   "outputs": [
    {
     "name": "stdout",
     "output_type": "stream",
     "text": [
      "  (0, 6)\t1\n",
      "  (0, 3)\t1\n",
      "  (0, 24)\t1\n",
      "  (0, 30)\t1\n",
      "  (0, 32)\t1\n",
      "  (0, 34)\t1\n",
      "  (0, 21)\t1\n",
      "  (0, 1)\t1\n",
      "  (0, 28)\t1\n",
      "  (0, 9)\t1\n",
      "  (1, 6)\t1\n",
      "  (1, 30)\t1\n",
      "  (1, 21)\t1\n",
      "  (1, 29)\t1\n",
      "  (1, 31)\t1\n",
      "  (1, 13)\t1\n",
      "  (1, 11)\t1\n",
      "  (1, 20)\t1\n",
      "  (1, 4)\t1\n",
      "  (1, 2)\t1\n",
      "  (1, 17)\t1\n",
      "  (2, 25)\t3\n",
      "  (2, 14)\t1\n",
      "  (2, 10)\t1\n",
      "  (2, 33)\t1\n",
      "  (2, 5)\t1\n",
      "  (2, 15)\t1\n",
      "  (2, 16)\t1\n",
      "  (3, 6)\t1\n",
      "  (3, 25)\t1\n",
      "  (3, 12)\t1\n",
      "  (3, 18)\t1\n",
      "  (3, 8)\t1\n",
      "  (3, 7)\t1\n",
      "  (3, 22)\t1\n",
      "  (3, 26)\t1\n",
      "  (3, 0)\t1\n",
      "  (3, 27)\t1\n",
      "  (3, 19)\t1\n",
      "  (3, 23)\t1\n"
     ]
    }
   ],
   "source": [
    "print(vectorized_corpus) #<4x36 sparse matrix of type '<class 'numpy.int64'>'"
   ]
  },
  {
   "cell_type": "code",
   "execution_count": 28,
   "metadata": {},
   "outputs": [
    {
     "name": "stdout",
     "output_type": "stream",
     "text": [
      "(4, 35)\n"
     ]
    },
    {
     "data": {
      "text/plain": [
       "array([[0, 1, 0, 1, 0, 0, 1, 0, 0, 1, 0, 0, 0, 0, 0, 0, 0, 0, 0, 0, 0, 1,\n",
       "        0, 0, 1, 0, 0, 0, 1, 0, 1, 0, 1, 0, 1],\n",
       "       [0, 0, 1, 0, 1, 0, 1, 0, 0, 0, 0, 1, 0, 1, 0, 0, 0, 1, 0, 0, 1, 1,\n",
       "        0, 0, 0, 0, 0, 0, 0, 1, 1, 1, 0, 0, 0],\n",
       "       [0, 0, 0, 0, 0, 1, 0, 0, 0, 0, 1, 0, 0, 0, 1, 1, 1, 0, 0, 0, 0, 0,\n",
       "        0, 0, 0, 3, 0, 0, 0, 0, 0, 0, 0, 1, 0],\n",
       "       [1, 0, 0, 0, 0, 0, 1, 1, 1, 0, 0, 0, 1, 0, 0, 0, 0, 0, 1, 1, 0, 0,\n",
       "        1, 1, 0, 1, 1, 1, 0, 0, 0, 0, 0, 0, 0]], dtype=int64)"
      ]
     },
     "execution_count": 28,
     "metadata": {},
     "output_type": "execute_result"
    }
   ],
   "source": [
    "vectorized_corpus = vectorized_corpus.toarray()\n",
    "print(vectorized_corpus.shape)\n",
    "vectorized_corpus"
   ]
  },
  {
   "cell_type": "code",
   "execution_count": 29,
   "metadata": {},
   "outputs": [
    {
     "name": "stdout",
     "output_type": "stream",
     "text": [
      "35\n",
      "{'indian': 6, 'cricket': 3, 'team': 24, 'will': 30, 'wins': 32, 'worldcup': 34, 'says': 21, 'capt': 1, 'virat': 28, 'kohli': 9, 'we': 29, 'win': 31, 'next': 13, 'lok': 11, 'sabha': 20, 'elections': 4, 'confident': 2, 'pm': 17, 'the': 25, 'nobel': 14, 'laurate': 10, 'won': 33, 'hearts': 5, 'of': 15, 'people': 16, 'movie': 12, 'raazi': 18, 'is': 8, 'interesting': 7, 'spy': 22, 'thriller': 26, 'based': 0, 'upon': 27, 'real': 19, 'story': 23}\n"
     ]
    }
   ],
   "source": [
    "print(len(cv.vocabulary_))\n",
    "print(cv.vocabulary_)"
   ]
  },
  {
   "cell_type": "code",
   "execution_count": 30,
   "metadata": {},
   "outputs": [
    {
     "data": {
      "text/plain": [
       "4"
      ]
     },
     "execution_count": 30,
     "metadata": {},
     "output_type": "execute_result"
    }
   ],
   "source": [
    "cv.vocabulary_['elections']"
   ]
  },
  {
   "cell_type": "code",
   "execution_count": 31,
   "metadata": {},
   "outputs": [
    {
     "name": "stdout",
     "output_type": "stream",
     "text": [
      "[array(['capt', 'cricket', 'indian', 'kohli', 'says', 'team', 'virat',\n",
      "       'will', 'wins', 'worldcup'], dtype='<U11'), array(['confident', 'elections', 'indian', 'lok', 'next', 'pm', 'sabha',\n",
      "       'says', 'we', 'will', 'win'], dtype='<U11'), array(['hearts', 'laurate', 'nobel', 'of', 'people', 'the', 'won'],\n",
      "      dtype='<U11'), array(['based', 'indian', 'interesting', 'is', 'movie', 'raazi', 'real',\n",
      "       'spy', 'story', 'the', 'thriller', 'upon'], dtype='<U11')]\n"
     ]
    }
   ],
   "source": [
    "print(cv.inverse_transform(vectorized_corpus))"
   ]
  },
  {
   "cell_type": "code",
   "execution_count": 32,
   "metadata": {},
   "outputs": [
    {
     "data": {
      "text/plain": [
       "[array(['based', 'capt', 'hearts', 'indian', 'interesting', 'is', 'kohli',\n",
       "        'laurate', 'lok', 'movie', 'next', 'nobel', 'of', 'people', 'pm',\n",
       "        'raazi', 'real', 'sabha', 'says', 'spy', 'story', 'team', 'the',\n",
       "        'thriller', 'upon', 'virat', 'we', 'will', 'win', 'wins', 'won',\n",
       "        'worldcup'], dtype='<U11')]"
      ]
     },
     "execution_count": 32,
     "metadata": {},
     "output_type": "execute_result"
    }
   ],
   "source": [
    "import numpy as np\n",
    "vector = np.ones((vectorized_corpus[0].shape[0],))\n",
    "vector[2:5] = 0\n",
    "cv.inverse_transform(vector)"
   ]
  },
  {
   "cell_type": "code",
   "execution_count": 33,
   "metadata": {},
   "outputs": [],
   "source": [
    "cv1 = CountVectorizer(tokenizer = data_preprocess)\n",
    "vectorized_corpus1 = cv1.fit_transform(corpus).toarray()"
   ]
  },
  {
   "cell_type": "code",
   "execution_count": 34,
   "metadata": {},
   "outputs": [
    {
     "name": "stdout",
     "output_type": "stream",
     "text": [
      "(4, 28)\n"
     ]
    },
    {
     "data": {
      "text/plain": [
       "array([[0, 1, 0, 1, 0, 0, 1, 0, 1, 0, 0, 0, 0, 0, 0, 0, 0, 0, 0, 1, 0, 0,\n",
       "        1, 0, 0, 1, 1, 1],\n",
       "       [0, 0, 1, 0, 1, 0, 1, 0, 0, 0, 1, 0, 1, 0, 0, 1, 0, 0, 1, 1, 0, 0,\n",
       "        0, 0, 0, 0, 1, 0],\n",
       "       [0, 0, 0, 0, 0, 1, 0, 0, 0, 1, 0, 0, 0, 1, 1, 0, 0, 0, 0, 0, 0, 0,\n",
       "        0, 0, 0, 0, 0, 0],\n",
       "       [1, 0, 0, 0, 0, 0, 1, 1, 0, 0, 0, 1, 0, 0, 0, 0, 1, 1, 0, 0, 1, 1,\n",
       "        0, 1, 1, 0, 0, 0]], dtype=int64)"
      ]
     },
     "execution_count": 34,
     "metadata": {},
     "output_type": "execute_result"
    }
   ],
   "source": [
    "print(vectorized_corpus1.shape)\n",
    "vectorized_corpus1"
   ]
  },
  {
   "cell_type": "code",
   "execution_count": 35,
   "metadata": {},
   "outputs": [
    {
     "name": "stdout",
     "output_type": "stream",
     "text": [
      "28\n",
      "{'indian': 6, 'cricket': 3, 'team': 22, 'win': 26, 'worldcup': 27, 'say': 19, 'capt': 1, 'virat': 25, 'koh': 8, 'next': 12, 'lok': 10, 'sabha': 18, 'elect': 4, 'confid': 2, 'pm': 15, 'nobel': 13, 'laurat': 9, 'heart': 5, 'peopl': 14, 'movi': 11, 'raazi': 16, 'interest': 7, 'spi': 20, 'thriller': 23, 'base': 0, 'upon': 24, 'real': 17, 'stori': 21}\n"
     ]
    }
   ],
   "source": [
    "print(len(cv1.vocabulary_))\n",
    "print(cv1.vocabulary_)"
   ]
  },
  {
   "cell_type": "markdown",
   "metadata": {},
   "source": [
    "# Bag of words:\n",
    "    -unigram model\n",
    "    -Bigram,Trigram model\n",
    "    -ngram model"
   ]
  },
  {
   "cell_type": "code",
   "execution_count": 43,
   "metadata": {},
   "outputs": [
    {
     "data": {
      "text/plain": [
       "array([[0, 1, 0, 1, 0, 0, 1, 0, 0, 0, 0, 0, 0, 0, 0, 0, 0, 0, 1, 0, 0, 1,\n",
       "        0, 0, 1, 0, 1, 1],\n",
       "       [0, 0, 1, 0, 1, 0, 0, 1, 0, 0, 0, 1, 0, 1, 0, 0, 0, 1, 0, 1, 0, 0,\n",
       "        0, 0, 0, 1, 0, 0],\n",
       "       [0, 0, 0, 0, 0, 1, 0, 0, 0, 0, 1, 0, 0, 0, 1, 0, 0, 0, 0, 0, 0, 0,\n",
       "        0, 0, 0, 0, 0, 0],\n",
       "       [1, 0, 0, 0, 0, 0, 0, 0, 1, 1, 0, 0, 1, 0, 0, 1, 1, 0, 0, 0, 1, 0,\n",
       "        1, 1, 0, 0, 0, 0]], dtype=int64)"
      ]
     },
     "execution_count": 43,
     "metadata": {},
     "output_type": "execute_result"
    }
   ],
   "source": [
    "# Bigram model\n",
    "cv2 = CountVectorizer(tokenizer = data_preprocess,ngram_range = (2,2))\n",
    "cv2.fit_transform(corpus).toarray()"
   ]
  },
  {
   "cell_type": "code",
   "execution_count": 44,
   "metadata": {},
   "outputs": [
    {
     "name": "stdout",
     "output_type": "stream",
     "text": [
      "{'indian cricket': 6, 'cricket team': 3, 'team win': 21, 'win worldcup': 26, 'worldcup say': 27, 'say capt': 18, 'capt virat': 1, 'virat koh': 24, 'win next': 25, 'next lok': 13, 'lok sabha': 11, 'sabha elect': 17, 'elect say': 4, 'say confid': 19, 'confid indian': 2, 'indian pm': 7, 'nobel laurat': 14, 'laurat heart': 10, 'heart peopl': 5, 'movi raazi': 12, 'raazi interest': 15, 'interest indian': 9, 'indian spi': 8, 'spi thriller': 20, 'thriller base': 22, 'base upon': 0, 'upon real': 23, 'real stori': 16}\n"
     ]
    }
   ],
   "source": [
    "print(cv2.vocabulary_)"
   ]
  },
  {
   "cell_type": "code",
   "execution_count": 46,
   "metadata": {},
   "outputs": [
    {
     "data": {
      "text/plain": [
       "array([[0, 0, 1, 1, 0, 0, 1, 1, 0, 0, 0, 1, 1, 0, 0, 0, 0, 0, 0, 0, 0, 0,\n",
       "        0, 0, 0, 0, 0, 0, 0, 0, 0, 0, 0, 1, 1, 0, 0, 0, 0, 1, 1, 0, 0, 0,\n",
       "        0, 1, 0, 0, 1, 1, 1, 1],\n",
       "       [0, 0, 0, 0, 1, 1, 0, 0, 1, 1, 0, 0, 0, 1, 0, 0, 0, 0, 0, 0, 1, 1,\n",
       "        0, 0, 1, 1, 0, 0, 0, 0, 0, 1, 1, 0, 0, 1, 1, 0, 0, 0, 0, 0, 0, 0,\n",
       "        0, 0, 1, 1, 0, 0, 0, 0],\n",
       "       [0, 0, 0, 0, 0, 0, 0, 0, 0, 0, 1, 0, 0, 0, 0, 0, 0, 0, 1, 1, 0, 0,\n",
       "        0, 0, 0, 0, 1, 1, 0, 0, 0, 0, 0, 0, 0, 0, 0, 0, 0, 0, 0, 0, 0, 0,\n",
       "        0, 0, 0, 0, 0, 0, 0, 0],\n",
       "       [1, 1, 0, 0, 0, 0, 0, 0, 0, 0, 0, 0, 0, 0, 1, 1, 1, 1, 0, 0, 0, 0,\n",
       "        1, 1, 0, 0, 0, 0, 1, 1, 1, 0, 0, 0, 0, 0, 0, 1, 1, 0, 0, 1, 1, 1,\n",
       "        1, 0, 0, 0, 0, 0, 0, 0]], dtype=int64)"
      ]
     },
     "execution_count": 46,
     "metadata": {},
     "output_type": "execute_result"
    }
   ],
   "source": [
    "#Bigram,trigram\n",
    "cv3 = CountVectorizer(tokenizer = data_preprocess,ngram_range = (2,3))\n",
    "cv3.fit_transform(corpus).toarray()"
   ]
  },
  {
   "cell_type": "code",
   "execution_count": 47,
   "metadata": {},
   "outputs": [
    {
     "name": "stdout",
     "output_type": "stream",
     "text": [
      "52\n",
      "{'indian cricket': 11, 'cricket team': 6, 'team win': 39, 'win worldcup': 48, 'worldcup say': 50, 'say capt': 33, 'capt virat': 2, 'virat koh': 45, 'indian cricket team': 12, 'cricket team win': 7, 'team win worldcup': 40, 'win worldcup say': 49, 'worldcup say capt': 51, 'say capt virat': 34, 'capt virat koh': 3, 'win next': 46, 'next lok': 24, 'lok sabha': 20, 'sabha elect': 31, 'elect say': 8, 'say confid': 35, 'confid indian': 4, 'indian pm': 13, 'win next lok': 47, 'next lok sabha': 25, 'lok sabha elect': 21, 'sabha elect say': 32, 'elect say confid': 9, 'say confid indian': 36, 'confid indian pm': 5, 'nobel laurat': 26, 'laurat heart': 18, 'heart peopl': 10, 'nobel laurat heart': 27, 'laurat heart peopl': 19, 'movi raazi': 22, 'raazi interest': 28, 'interest indian': 16, 'indian spi': 14, 'spi thriller': 37, 'thriller base': 41, 'base upon': 0, 'upon real': 43, 'real stori': 30, 'movi raazi interest': 23, 'raazi interest indian': 29, 'interest indian spi': 17, 'indian spi thriller': 15, 'spi thriller base': 38, 'thriller base upon': 42, 'base upon real': 1, 'upon real stori': 44}\n"
     ]
    }
   ],
   "source": [
    "print(len(cv3.vocabulary_))\n",
    "print(cv3.vocabulary_)"
   ]
  },
  {
   "cell_type": "markdown",
   "metadata": {},
   "source": [
    "# Tf-idf Normalisation\n",
    "    - Avoids features that occur very often in documents because they contain less information.\n",
    "    - information decreases as the number of occurences of a token increases across different type of documents.\n",
    "    - so we associate a weight with each term by defining a term : term-document frequency.\n",
    "    - term frequency - tf(t,d) => number of times token t occurs in document d.\n",
    "    - inverse document frequency - idf(t,c) => log(1/(1+count(d,t)) where count(d,t) => number of documents of corpus c in\n",
    "      which token t occurs.\n",
    "    - greater the count(d,t) less will be token's weight in predicting the result.\n",
    "    - weight of a token is given by (tf*idf)"
   ]
  },
  {
   "cell_type": "code",
   "execution_count": 48,
   "metadata": {},
   "outputs": [],
   "source": [
    "from sklearn.feature_extraction.text import TfidfVectorizer"
   ]
  },
  {
   "cell_type": "code",
   "execution_count": 53,
   "metadata": {},
   "outputs": [
    {
     "data": {
      "text/plain": [
       "array([[0.        , 0.36153669, 0.        , 0.36153669, 0.        ,\n",
       "        0.        , 0.23076418, 0.        , 0.36153669, 0.        ,\n",
       "        0.        , 0.        , 0.        , 0.        , 0.        ,\n",
       "        0.        , 0.        , 0.        , 0.        , 0.28503968,\n",
       "        0.        , 0.        , 0.36153669, 0.        , 0.        ,\n",
       "        0.36153669, 0.28503968, 0.36153669],\n",
       "       [0.        , 0.        , 0.36153669, 0.        , 0.36153669,\n",
       "        0.        , 0.23076418, 0.        , 0.        , 0.        ,\n",
       "        0.36153669, 0.        , 0.36153669, 0.        , 0.        ,\n",
       "        0.36153669, 0.        , 0.        , 0.36153669, 0.28503968,\n",
       "        0.        , 0.        , 0.        , 0.        , 0.        ,\n",
       "        0.        , 0.28503968, 0.        ],\n",
       "       [0.        , 0.        , 0.        , 0.        , 0.        ,\n",
       "        0.5       , 0.        , 0.        , 0.        , 0.5       ,\n",
       "        0.        , 0.        , 0.        , 0.5       , 0.5       ,\n",
       "        0.        , 0.        , 0.        , 0.        , 0.        ,\n",
       "        0.        , 0.        , 0.        , 0.        , 0.        ,\n",
       "        0.        , 0.        , 0.        ],\n",
       "       [0.32603555, 0.        , 0.        , 0.        , 0.        ,\n",
       "        0.        , 0.20810427, 0.32603555, 0.        , 0.        ,\n",
       "        0.        , 0.32603555, 0.        , 0.        , 0.        ,\n",
       "        0.        , 0.32603555, 0.32603555, 0.        , 0.        ,\n",
       "        0.32603555, 0.32603555, 0.        , 0.32603555, 0.32603555,\n",
       "        0.        , 0.        , 0.        ]])"
      ]
     },
     "execution_count": 53,
     "metadata": {},
     "output_type": "execute_result"
    }
   ],
   "source": [
    "tfidf_vectorizer = TfidfVectorizer(tokenizer = data_preprocess,ngram_range = (1,1))\n",
    "tfidf_vector = tfidf_vectorizer.fit_transform(corpus).toarray()\n",
    "tfidf_vector"
   ]
  },
  {
   "cell_type": "code",
   "execution_count": 54,
   "metadata": {},
   "outputs": [
    {
     "name": "stdout",
     "output_type": "stream",
     "text": [
      "28\n",
      "{'indian': 6, 'cricket': 3, 'team': 22, 'win': 26, 'worldcup': 27, 'say': 19, 'capt': 1, 'virat': 25, 'koh': 8, 'next': 12, 'lok': 10, 'sabha': 18, 'elect': 4, 'confid': 2, 'pm': 15, 'nobel': 13, 'laurat': 9, 'heart': 5, 'peopl': 14, 'movi': 11, 'raazi': 16, 'interest': 7, 'spi': 20, 'thriller': 23, 'base': 0, 'upon': 24, 'real': 17, 'stori': 21}\n"
     ]
    }
   ],
   "source": [
    "print(len(tfidf_vectorizer.vocabulary_))\n",
    "print(tfidf_vectorizer.vocabulary_)"
   ]
  }
 ],
 "metadata": {
  "kernelspec": {
   "display_name": "Python 3",
   "language": "python",
   "name": "python3"
  },
  "language_info": {
   "codemirror_mode": {
    "name": "ipython",
    "version": 3
   },
   "file_extension": ".py",
   "mimetype": "text/x-python",
   "name": "python",
   "nbconvert_exporter": "python",
   "pygments_lexer": "ipython3",
   "version": "3.7.6"
  }
 },
 "nbformat": 4,
 "nbformat_minor": 4
}
