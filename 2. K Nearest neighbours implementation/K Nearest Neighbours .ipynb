{
 "cells": [
  {
   "cell_type": "markdown",
   "metadata": {},
   "source": [
    "# K-Nearest Neighbors Classifier – Our Baseline Method\n",
    "    k-Nearest Neighbors (k-NN) is an algorithm, which:\n",
    "            1. ﬁnds a group of k objects in the training set that are closest to the test object, and\n",
    "            2. bases the assignment of a label on the predominance of a class in this neighborhood "
   ]
  },
  {
   "cell_type": "code",
   "execution_count": 75,
   "metadata": {},
   "outputs": [],
   "source": [
    "import math\n",
    "import numpy as np\n",
    "import matplotlib.pyplot as plt"
   ]
  },
  {
   "cell_type": "code",
   "execution_count": 76,
   "metadata": {},
   "outputs": [
    {
     "data": {
      "text/plain": [
       "(250, 3)"
      ]
     },
     "execution_count": 76,
     "metadata": {},
     "output_type": "execute_result"
    }
   ],
   "source": [
    "mean1 = np.array([1.0,0.5])\n",
    "cov1 = np.array([[1.0,0.0],[0.0,1.0]])\n",
    "\n",
    "dataset1 = np.random.multivariate_normal(mean1,cov1,250)\n",
    "\n",
    "zeros = np.zeros((dataset1.shape[0],1))\n",
    "dataset1 = np.hstack((dataset1,zeros))\n",
    "dataset1.shape"
   ]
  },
  {
   "cell_type": "code",
   "execution_count": 77,
   "metadata": {},
   "outputs": [
    {
     "data": {
      "text/plain": [
       "(250, 3)"
      ]
     },
     "execution_count": 77,
     "metadata": {},
     "output_type": "execute_result"
    }
   ],
   "source": [
    "mean2 = np.array([5.0,6.5])\n",
    "cov2 = np.array([[1.0,0.0],[0.0,1.0]])\n",
    "\n",
    "dataset2 = np.random.multivariate_normal(mean2,cov2,250)\n",
    "\n",
    "ones = np.ones((dataset2.shape[0],1))\n",
    "dataset2 = np.hstack((dataset2,ones))\n",
    "dataset2.shape"
   ]
  },
  {
   "cell_type": "code",
   "execution_count": 78,
   "metadata": {},
   "outputs": [
    {
     "data": {
      "image/png": "[encoded data removed]",
      "text/plain": [
       "<Figure size 432x288 with 1 Axes>"
      ]
     },
     "metadata": {
      "needs_background": "light"
     },
     "output_type": "display_data"
    }
   ],
   "source": [
    "plt.scatter(dataset1[:,0],dataset1[:,1],color = 'yellow',label = 'class = 0')\n",
    "plt.scatter(dataset2[:,0],dataset2[:,1],color = 'pink',label = 'class = 1')\n",
    "plt.xlabel('x1')\n",
    "plt.ylabel('x2')\n",
    "plt.legend()\n",
    "plt.show()"
   ]
  },
  {
   "cell_type": "code",
   "execution_count": 79,
   "metadata": {},
   "outputs": [
    {
     "data": {
      "text/plain": [
       "((400, 2), (100, 2), (400,), (100,))"
      ]
     },
     "execution_count": 79,
     "metadata": {},
     "output_type": "execute_result"
    }
   ],
   "source": [
    "data = np.vstack((dataset1,dataset2))\n",
    "np.random.shuffle(data)\n",
    "\n",
    "spilt = int(0.8*data.shape[0])\n",
    "x_train,x_test,y_train,y_test = data[:spilt,:-1],data[spilt:,:-1],data[:spilt,-1],data[spilt:,-1]\n",
    "x_train.shape,x_test.shape,y_train.shape,y_test.shape"
   ]
  },
  {
   "cell_type": "code",
   "execution_count": 80,
   "metadata": {},
   "outputs": [
    {
     "data": {
      "image/png": "[encoded data removed]",
      "text/plain": [
       "<Figure size 432x288 with 1 Axes>"
      ]
     },
     "metadata": {
      "needs_background": "light"
     },
     "output_type": "display_data"
    }
   ],
   "source": [
    "testpts = [4,4]\n",
    "plt.scatter(dataset1[:,0],dataset1[:,1],color = 'yellow')\n",
    "plt.scatter(dataset2[:,0],dataset2[:,1],color = 'pink')\n",
    "plt.scatter(testpts[0],testpts[1])\n",
    "plt.show()"
   ]
  },
  {
   "cell_type": "code",
   "execution_count": 83,
   "metadata": {},
   "outputs": [],
   "source": [
    "def euclidean_distance(x1,x2):\n",
    "    return math.sqrt(((x1-x2)**2).sum())\n",
    "\n",
    "#returns the distances of nearest k neighbours\n",
    "def get_prediction(x,X,Y,K_value = 10):\n",
    "    distance = []\n",
    "    m = X.shape[0]\n",
    "    for i in range(m):\n",
    "        d = euclidean_distance(x,X[i])\n",
    "        distance.append((d,Y[i]))\n",
    "    distance.sort()\n",
    "    distance = distance[:K_value]\n",
    "    distance = np.array(distance)\n",
    "    result = np.unique(distance[:,1],return_counts = True)#(array([0., 1.]), array([2, 3], dtype=int64))\n",
    "    max_index = result[1].argmax()\n",
    "    ans = result[0][max_index]\n",
    "    return ans\n",
    "def get_class(testpts,X,Y):\n",
    "    class_number = int(get_prediction(testpts,x_train,y_train))\n",
    "    if(class_number == 1):\n",
    "        print(\"({}) point belongs to class 1\".format(testpts))\n",
    "    else:\n",
    "        print(\"({}) point belongs to class 0\".format(testpts))"
   ]
  },
  {
   "cell_type": "code",
   "execution_count": 84,
   "metadata": {},
   "outputs": [
    {
     "name": "stdout",
     "output_type": "stream",
     "text": [
      "([4, 4]) point belongs to class 1\n"
     ]
    }
   ],
   "source": [
    "get_class(testpts,x_train,y_train)"
   ]
  },
  {
   "cell_type": "code",
   "execution_count": null,
   "metadata": {},
   "outputs": [],
   "source": []
  }
 ],
 "metadata": {
  "kernelspec": {
   "display_name": "Python 3",
   "language": "python",
   "name": "python3"
  },
  "language_info": {
   "codemirror_mode": {
    "name": "ipython",
    "version": 3
   },
   "file_extension": ".py",
   "mimetype": "text/x-python",
   "name": "python",
   "nbconvert_exporter": "python",
   "pygments_lexer": "ipython3",
   "version": "3.7.6"
  }
 },
 "nbformat": 4,
 "nbformat_minor": 4
}
